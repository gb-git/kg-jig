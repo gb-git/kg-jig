{
 "cells": [
  {
   "cell_type": "markdown",
   "metadata": {},
   "source": [
    "# Master Flow\n",
    "This notebook integrates the various parts from text normalization, topic classification and toxicity estimation to produce an end-to-end flow that will be used to produce the evaluation we will submit.  "
   ]
  },
  {
   "cell_type": "markdown",
   "metadata": {},
   "source": [
    "### Import Libraries "
   ]
  },
  {
   "cell_type": "code",
   "execution_count": 1,
   "metadata": {},
   "outputs": [
    {
     "name": "stdout",
     "output_type": "stream",
     "text": [
      "Import libraries...\n",
      "Loaded libraries: 2675.436 ms\n",
      "Import libraries...\n",
      "Loaded libraries: 1.016 ms\n"
     ]
    },
    {
     "data": {
      "text/plain": [
       "<module 'helpers' from 'C:\\\\Users\\\\Gerald\\\\kg-jig\\\\kg-jig\\\\helpers.py'>"
      ]
     },
     "execution_count": 1,
     "metadata": {},
     "output_type": "execute_result"
    }
   ],
   "source": [
    "# local helper functions\n",
    "import helpers\n",
    "# Importlib allows reloading a file (for example when it is changed)\n",
    "# https://docs.python.org/3/library/importlib.html#importlib.reload\n",
    "import importlib\n",
    "importlib.reload(helpers)"
   ]
  },
  {
   "cell_type": "markdown",
   "metadata": {},
   "source": [
    "### Initialization"
   ]
  },
  {
   "cell_type": "code",
   "execution_count": 2,
   "metadata": {},
   "outputs": [],
   "source": [
    "helpers.set_seed(1)"
   ]
  },
  {
   "cell_type": "markdown",
   "metadata": {},
   "source": [
    "### Load Data"
   ]
  },
  {
   "cell_type": "code",
   "execution_count": 3,
   "metadata": {},
   "outputs": [
    {
     "name": "stdout",
     "output_type": "stream",
     "text": [
      "Training set load time: 463.065 ms for 55609 records (120088.872 record/s, 0.008 ms/record)\n",
      "Test set load time: 390.032 ms for 97320 records (249518.259 record/s, 0.004 ms/record)\n"
     ]
    }
   ],
   "source": [
    "data_path = 'C:/Users/Gerald/kg-jig/kg-jigsaw-data/data'\n",
    "train_data_path=data_path + \"/train.csv\"\n",
    "test_data_path=data_path + \"/test.csv\"\n",
    "train_sample_data_path= data_path + \"/train-sample.csv\"\n",
    "\n",
    "# load the two data sets\n",
    "train_df = helpers.load_data(train_sample_data_path, \"Training set\")\n",
    "test_df = helpers.load_data(test_data_path, \"Test set\")\n"
   ]
  },
  {
   "cell_type": "markdown",
   "metadata": {},
   "source": [
    "# Normalization\n",
    "\n",
    "### Load SpaCy"
   ]
  },
  {
   "cell_type": "code",
   "execution_count": 4,
   "metadata": {},
   "outputs": [],
   "source": [
    "import spacy\n",
    "spl = spacy.load(\"en_core_web_sm\")"
   ]
  },
  {
   "cell_type": "code",
   "execution_count": null,
   "metadata": {},
   "outputs": [],
   "source": []
  }
 ],
 "metadata": {
  "kernelspec": {
   "display_name": "Python 3",
   "language": "python",
   "name": "python3"
  },
  "language_info": {
   "codemirror_mode": {
    "name": "ipython",
    "version": 3
   },
   "file_extension": ".py",
   "mimetype": "text/x-python",
   "name": "python",
   "nbconvert_exporter": "python",
   "pygments_lexer": "ipython3",
   "version": "3.7.3"
  }
 },
 "nbformat": 4,
 "nbformat_minor": 2
}
